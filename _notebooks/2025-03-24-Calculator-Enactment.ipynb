{
 "cells": [
  {
   "cell_type": "markdown",
   "metadata": {},
   "source": [
    "---\n",
    "toc: false\n",
    "layout: post\n",
    "title: Calcultor Enactment\n",
    "type: ccc\n",
    "courses: {csa: {week: 26}}\n",
    "---"
   ]
  },
  {
   "cell_type": "markdown",
   "metadata": {},
   "source": [
    "# Popcorn Hack"
   ]
  },
  {
   "cell_type": "code",
   "execution_count": 1,
   "metadata": {
    "vscode": {
     "languageId": "java"
    }
   },
   "outputs": [
    {
     "name": "stdout",
     "output_type": "stream",
     "text": [
      "Postfix: 6 3 * 4 +\n",
      "Infix: ((6 * 3) + 4)\n",
      "\n",
      "Postfix: 10 2 8 * + 3 -\n",
      "Infix: ((10 + (2 * 8)) - 3)\n",
      "\n",
      "Postfix: 15 3 / 4 2 * +\n",
      "Infix: ((15 / 3) + (4 * 2))\n",
      "\n",
      "Postfix: 7 3 2 * + 5 -\n",
      "Infix: ((7 + (3 * 2)) - 5)\n",
      "\n",
      "Postfix: 9 3 + 2 ^\n",
      "Infix: ((9 + 3) ^ 2)\n",
      "\n"
     ]
    }
   ],
   "source": [
    "import java.util.Stack;\n",
    "\n",
    "public class PostfixToInfixConverter {\n",
    "    public static String convertPostfixToInfix(String postfix) {\n",
    "        Stack<String> stack = new Stack<>();\n",
    "        String[] tokens = postfix.split(\" \");\n",
    "\n",
    "        for (String token : tokens) {\n",
    "            if (isOperator(token)) {\n",
    "                // Pop two operands from the stack\n",
    "                String operand2 = stack.pop();\n",
    "                String operand1 = stack.pop();\n",
    "                \n",
    "                // Form the infix expression with parentheses\n",
    "                String infixExpression = \"(\" + operand1 + \" \" + token + \" \" + operand2 + \")\";\n",
    "                \n",
    "                // Push back the result\n",
    "                stack.push(infixExpression);\n",
    "            } else {\n",
    "                // If token is an operand, push it onto the stack\n",
    "                stack.push(token);\n",
    "            }\n",
    "        }\n",
    "\n",
    "        // Final expression in stack is the complete infix expression\n",
    "        return stack.pop();\n",
    "    }\n",
    "\n",
    "    private static boolean isOperator(String token) {\n",
    "        return token.equals(\"+\") || token.equals(\"-\") || token.equals(\"*\") || \n",
    "               token.equals(\"/\") || token.equals(\"^\");\n",
    "    }\n",
    "\n",
    "    public static void main(String[] args) {\n",
    "        // Test cases\n",
    "        String[] postfixExpressions = {\n",
    "            \"6 3 * 4 +\",\n",
    "            \"10 2 8 * + 3 -\",\n",
    "            \"15 3 / 4 2 * +\",\n",
    "            \"7 3 2 * + 5 -\",\n",
    "            \"9 3 + 2 ^\"\n",
    "        };\n",
    "\n",
    "        for (String postfix : postfixExpressions) {\n",
    "            System.out.println(\"Postfix: \" + postfix);\n",
    "            System.out.println(\"Infix: \" + convertPostfixToInfix(postfix));\n",
    "            System.out.println();\n",
    "        }\n",
    "    }\n",
    "}\n",
    "PostfixToInfixConverter.main(null);"
   ]
  },
  {
   "cell_type": "markdown",
   "metadata": {},
   "source": [
    "# Homework"
   ]
  },
  {
   "cell_type": "code",
   "execution_count": 2,
   "metadata": {
    "vscode": {
     "languageId": "java"
    }
   },
   "outputs": [
    {
     "name": "stdout",
     "output_type": "stream",
     "text": [
      "Result: 11\n"
     ]
    }
   ],
   "source": [
    "import java.util.Stack;\n",
    "\n",
    "public class PrefixCalculator {\n",
    "    public static int evaluatePrefix(String expression) {\n",
    "        Stack<Integer> stack = new Stack<>();\n",
    "        String[] tokens = expression.split(\" \");\n",
    "\n",
    "        // Read from right to left\n",
    "        for (int i = tokens.length - 1; i >= 0; i--) {\n",
    "            String token = tokens[i];\n",
    "\n",
    "            // If token is a number, push it to the stack\n",
    "            if (isNumeric(token)) {\n",
    "                stack.push(Integer.parseInt(token));\n",
    "            } else {\n",
    "                // Operator: Pop two numbers from the stack, apply operation, and push result\n",
    "                int num1 = stack.pop();\n",
    "                int num2 = stack.pop();\n",
    "                int result = applyOperator(token, num1, num2);\n",
    "                stack.push(result);\n",
    "            }\n",
    "        }\n",
    "\n",
    "        // The final result is the only element left in the stack\n",
    "        return stack.pop();\n",
    "    }\n",
    "\n",
    "    private static boolean isNumeric(String str) {\n",
    "        return str.matches(\"-?\\\\d+\"); // Matches integers (including negative numbers)\n",
    "    }\n",
    "\n",
    "    private static int applyOperator(String operator, int num1, int num2) {\n",
    "        return switch (operator) {\n",
    "            case \"+\" -> num1 + num2;\n",
    "            case \"-\" -> num1 - num2;\n",
    "            case \"*\" -> num1 * num2;\n",
    "            case \"/\" -> num1 / num2; // Assume valid input (no division by zero)\n",
    "            case \"^\" -> (int) Math.pow(num1, num2);\n",
    "            default -> throw new IllegalArgumentException(\"Invalid operator: \" + operator);\n",
    "        };\n",
    "    }\n",
    "\n",
    "    public static void main(String[] args) {\n",
    "        String prefixExpression = \"+ * 2 3 5\"; // Equivalent to (2 * 3) + 5\n",
    "        int result = evaluatePrefix(prefixExpression);\n",
    "        System.out.println(\"Result: \" + result); // Output: 11\n",
    "    }\n",
    "}\n",
    "PrefixCalculator.main(null);"
   ]
  }
 ],
 "metadata": {
  "kernelspec": {
   "display_name": "java (IJava/j!)",
   "language": "java",
   "name": "jbang-ijava"
  },
  "language_info": {
   "codemirror_mode": "java",
   "file_extension": ".jshell",
   "mimetype": "text/x-java-source",
   "name": "Java",
   "pygments_lexer": "java",
   "version": "22.0.2+9-70"
  }
 },
 "nbformat": 4,
 "nbformat_minor": 2
}
