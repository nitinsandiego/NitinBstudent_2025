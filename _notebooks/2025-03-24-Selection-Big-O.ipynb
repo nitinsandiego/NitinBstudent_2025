{
 "cells": [
  {
   "cell_type": "markdown",
   "metadata": {},
   "source": [
    "---\n",
    "toc: false\n",
    "layout: post\n",
    "title: Selection Big O\n",
    "type: ccc\n",
    "courses: {csa: {week: 26}}\n",
    "---"
   ]
  },
  {
   "cell_type": "markdown",
   "metadata": {},
   "source": [
    "# Homework Part 1\n",
    "\n",
    "## Selection Sort"
   ]
  },
  {
   "cell_type": "code",
   "execution_count": 1,
   "metadata": {
    "vscode": {
     "languageId": "java"
    }
   },
   "outputs": [
    {
     "name": "stdout",
     "output_type": "stream",
     "text": [
      "Original Array:\n",
      "29 10 14 37 13 \n",
      "Sorted in Descending Order:\n",
      "37 29 14 13 10 \n"
     ]
    }
   ],
   "source": [
    "public class SelectionSortDescending {\n",
    "    public static void selectionSortDescending(int[] arr) {\n",
    "        int n = arr.length;\n",
    "        for (int i = 0; i < n - 1; i++) {\n",
    "            int maxIndex = i; // Assume current index holds max value\n",
    "            for (int j = i + 1; j < n; j++) {\n",
    "                if (arr[j] > arr[maxIndex]) { // Find max in remaining array\n",
    "                    maxIndex = j;\n",
    "                }\n",
    "            }\n",
    "            // Swap max element with first element of unsorted part\n",
    "            int temp = arr[maxIndex];\n",
    "            arr[maxIndex] = arr[i];\n",
    "            arr[i] = temp;\n",
    "        }\n",
    "    }\n",
    "\n",
    "    public static void printArray(int[] arr) {\n",
    "        for (int num : arr) {\n",
    "            System.out.print(num + \" \");\n",
    "        }\n",
    "        System.out.println();\n",
    "    }\n",
    "\n",
    "    public static void main(String[] args) {\n",
    "        int[] array = {29, 10, 14, 37, 13};\n",
    "        System.out.println(\"Original Array:\");\n",
    "        printArray(array);\n",
    "\n",
    "        selectionSortDescending(array);\n",
    "\n",
    "        System.out.println(\"Sorted in Descending Order:\");\n",
    "        printArray(array);\n",
    "    }\n",
    "}\n",
    "SelectionSortDescending.main(null);"
   ]
  },
  {
   "cell_type": "markdown",
   "metadata": {},
   "source": [
    "## Insertion Sort"
   ]
  },
  {
   "cell_type": "code",
   "execution_count": 4,
   "metadata": {
    "vscode": {
     "languageId": "java"
    }
   },
   "outputs": [
    {
     "name": "stdout",
     "output_type": "stream",
     "text": [
      "Original Array:\n",
      "1 2 5 4 3 6 7 8 9 10 \n",
      "Sorted in Ascending Order:\n",
      "1 2 3 4 5 6 7 8 9 10 \n"
     ]
    }
   ],
   "source": [
    "public class InsertionSortAscending {\n",
    "    public static void insertionSortAscending(int[] arr) {\n",
    "        int n = arr.length;\n",
    "        for (int i = 1; i < n; i++) {\n",
    "            int key = arr[i];\n",
    "            int j = i - 1;\n",
    "\n",
    "            // Shift elements that are greater than key to the right\n",
    "            while (j >= 0 && arr[j] > key) {\n",
    "                arr[j + 1] = arr[j];\n",
    "                j--;\n",
    "            }\n",
    "            arr[j + 1] = key; // Insert key at correct position\n",
    "        }\n",
    "    }\n",
    "\n",
    "    public static void printArray(int[] arr) {\n",
    "        for (int num : arr) {\n",
    "            System.out.print(num + \" \");\n",
    "        }\n",
    "        System.out.println();\n",
    "    }\n",
    "\n",
    "    public static void main(String[] args) {\n",
    "        int[] array = {1, 2, 5, 4, 3, 6, 7, 8, 9, 10};\n",
    "        System.out.println(\"Original Array:\");\n",
    "        printArray(array);\n",
    "\n",
    "        insertionSortAscending(array);\n",
    "\n",
    "        System.out.println(\"Sorted in Ascending Order:\");\n",
    "        printArray(array);\n",
    "    }\n",
    "}\n",
    "InsertionSortAscending.main(null);"
   ]
  },
  {
   "cell_type": "markdown",
   "metadata": {},
   "source": [
    "# Part 2 Time Complexity Exercise"
   ]
  },
  {
   "cell_type": "code",
   "execution_count": 10,
   "metadata": {
    "vscode": {
     "languageId": "java"
    }
   },
   "outputs": [
    {
     "name": "stdout",
     "output_type": "stream",
     "text": [
      "Sorting Array A:\n",
      "Selection Sort took 1333 nanoseconds.\n",
      "Insertion Sort took 1000 nanoseconds.\n",
      "\n",
      "Sorting Array B:\n",
      "Selection Sort took 2333 nanoseconds.\n",
      "Insertion Sort took 1042 nanoseconds.\n"
     ]
    }
   ],
   "source": [
    "public class SortingTimeComparison {\n",
    "    public static void selectionSortDescending(int[] arr) {\n",
    "        int n = arr.length;\n",
    "        for (int i = 0; i < n - 1; i++) {\n",
    "            int maxIndex = i;\n",
    "            for (int j = i + 1; j < n; j++) {\n",
    "                if (arr[j] > arr[maxIndex]) {\n",
    "                    maxIndex = j;\n",
    "                }\n",
    "            }\n",
    "            int temp = arr[maxIndex];\n",
    "            arr[maxIndex] = arr[i];\n",
    "            arr[i] = temp;\n",
    "        }\n",
    "    }\n",
    "\n",
    "    public static void insertionSortAscending(int[] arr) {\n",
    "        int n = arr.length;\n",
    "        for (int i = 1; i < n; i++) {\n",
    "            int key = arr[i];\n",
    "            int j = i - 1;\n",
    "            while (j >= 0 && arr[j] > key) {\n",
    "                arr[j + 1] = arr[j];\n",
    "                j--;\n",
    "            }\n",
    "            arr[j + 1] = key;\n",
    "        }\n",
    "    }\n",
    "\n",
    "    public static void measureSortingTime(int[] arr, boolean isSelectionSort) {\n",
    "        int[] copy = arr.clone(); // Clone to avoid modifying original array\n",
    "        long startTime = System.nanoTime(); // Start time\n",
    "\n",
    "        if (isSelectionSort) {\n",
    "            selectionSortDescending(copy);\n",
    "        } else {\n",
    "            insertionSortAscending(copy);\n",
    "        }\n",
    "\n",
    "        long endTime = System.nanoTime(); // End time\n",
    "        long duration = endTime - startTime; // Compute time taken\n",
    "        System.out.println((isSelectionSort ? \"Selection Sort\" : \"Insertion Sort\") +\n",
    "                           \" took \" + duration + \" nanoseconds.\");\n",
    "    }\n",
    "\n",
    "    public static void main(String[] args) {\n",
    "        int[] arrayA = {29, 10, 14, 37, 13};\n",
    "        int[] arrayB = {1, 2, 5, 4, 3, 6, 7, 8, 9, 10};\n",
    "\n",
    "        System.out.println(\"Sorting Array A:\");\n",
    "        measureSortingTime(arrayA, true);  // Selection Sort\n",
    "        measureSortingTime(arrayA, false); // Insertion Sort\n",
    "\n",
    "        System.out.println(\"\\nSorting Array B:\");\n",
    "        measureSortingTime(arrayB, true);  // Selection Sort\n",
    "        measureSortingTime(arrayB, false); // Insertion Sort\n",
    "    }\n",
    "}\n",
    "SortingTimeComparison.main(null);"
   ]
  },
  {
   "cell_type": "markdown",
   "metadata": {},
   "source": [
    "### Which algorithm performed better for Array A? Why?\n",
    "    Selection Sort will likely perform better for Array A. This is because it makes fewer swaps and is designed for smaller unsorted portions. Insertion Sort requires more shifts, especially since the array is randomly ordered.\n",
    "\n",
    "### Which algorithm performed better for Array B? Why?\n",
    "    Insertion Sort will perform better for Array B. The array is nearly sorted, so Insertion Sort can insert elements into their correct positions with fewer operations. Selection Sort, on the other hand, makes unnecessary comparisons even when elements are already sorted.\n",
    "\n",
    "### When is it best to use each sorting algorithm?\n",
    "    Selection Sort is ideal for small datasets or cases where memory swaps are more expensive. Insertion Sort is best used when the array is partially sorted or when working with smaller datasets where the number of comparisons will be minimal."
   ]
  },
  {
   "cell_type": "markdown",
   "metadata": {},
   "source": [
    "### Time Complexity Analysis\n",
    "\n",
    "| Algorithm        | Best Case | Worst Case | Average Case |\n",
    "|------------------|-----------|------------|--------------|\n",
    "| **Selection Sort** | O(n²)    | O(n²)     | O(n²)        |\n",
    "| **Insertion Sort** | O(n)     | O(n²)     | O(n²)        |\n",
    "\n",
    "- Selection Sort has O(n²) time complexity in all cases because it always makes a fixed number of comparisons, regardless of the initial state of the array.\n",
    "- Insertion Sort is O(n) in the best case when the array is already sorted, but has O(n²) in the worst and average cases, when the array is unordered or partially sorted."
   ]
  }
 ],
 "metadata": {
  "kernelspec": {
   "display_name": "java (IJava/j!)",
   "language": "java",
   "name": "jbang-ijava"
  },
  "language_info": {
   "codemirror_mode": "java",
   "file_extension": ".jshell",
   "mimetype": "text/x-java-source",
   "name": "Java",
   "pygments_lexer": "java",
   "version": "22.0.2+9-70"
  }
 },
 "nbformat": 4,
 "nbformat_minor": 2
}
