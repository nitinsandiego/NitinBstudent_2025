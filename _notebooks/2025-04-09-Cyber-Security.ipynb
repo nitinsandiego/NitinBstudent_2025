{
 "cells": [
  {
   "cell_type": "markdown",
   "metadata": {},
   "source": [
    "---\n",
    "toc: false\n",
    "layout: post\n",
    "title: Cybersecurity Expert Panel Blog\n",
    "type: issues\n",
    "courses: {csa: {week: 30}}\n",
    "---"
   ]
  },
  {
   "cell_type": "markdown",
   "metadata": {},
   "source": [
    "# Proof of Attendence\n",
    "\n",
    "![6CAA922B-B32D-4C25-B9C6-0939AF78CCA9_1_105_c.jpeg](/NitinBstudent_2025/images/6CAA922B-B32D-4C25-B9C6-0939AF78CCA9_1_105_c.jpeg)\n",
    "\n",
    "![8F557A2A-D681-43DE-A5DA-AFDEFF7AC4B8_1_105_c.jpeg](/NitinBstudent_2025/images/8F557A2A-D681-43DE-A5DA-AFDEFF7AC4B8_1_105_c.jpeg)\n",
    "\n",
    "![2C79BB54-FE94-47DB-B3F2-44A79019CD81_1_105_c.jpeg](/NitinBstudent_2025/images/2C79BB54-FE94-47DB-B3F2-44A79019CD81_1_105_c.jpeg)"
   ]
  },
  {
   "cell_type": "markdown",
   "metadata": {},
   "source": [
    "Today in my CSA class, we had a visit from three cyber security experts: David Tomasz, Tricia Mercer, and Victor Nzeata. They shared their experiences and gave us a behind-the-scenes look at how cyber security really works. It wasn’t just about firewalls and coding. It was about people, trust, and how one small mistake can cause big problems."
   ]
  }
 ],
 "metadata": {
  "language_info": {
   "name": "python"
  }
 },
 "nbformat": 4,
 "nbformat_minor": 2
}
