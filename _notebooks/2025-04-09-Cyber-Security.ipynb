{
 "cells": [
  {
   "cell_type": "markdown",
   "metadata": {},
   "source": [
    "---\n",
    "toc: false\n",
    "layout: post\n",
    "title: Cybersecurity Expert Panel Blog\n",
    "type: issues\n",
    "courses: {csa: {week: 30}}\n",
    "---"
   ]
  },
  {
   "cell_type": "markdown",
   "metadata": {},
   "source": [
    "Today in my CSA class, we had a visit from three cyber security experts: David Tomasz, Tricia Mercer, and Victor Nzeata. They shared their experiences and gave us a behind-the-scenes look at how cyber security really works. It wasn’t just about firewalls and coding. It was about people, trust, and how one small mistake can cause big problems."
   ]
  },
  {
   "cell_type": "markdown",
   "metadata": {},
   "source": [
    "# Proof of Attendence\n",
    "\n",
    "![6CAA922B-B32D-4C25-B9C6-0939AF78CCA9_1_105_c.jpeg](/NitinBstudent_2025/images/6CAA922B-B32D-4C25-B9C6-0939AF78CCA9_1_105_c.jpeg)\n",
    "\n",
    "![8F557A2A-D681-43DE-A5DA-AFDEFF7AC4B8_1_105_c.jpeg](/NitinBstudent_2025/images/8F557A2A-D681-43DE-A5DA-AFDEFF7AC4B8_1_105_c.jpeg)\n",
    "\n",
    "![2C79BB54-FE94-47DB-B3F2-44A79019CD81_1_105_c.jpeg](/NitinBstudent_2025/images/2C79BB54-FE94-47DB-B3F2-44A79019CD81_1_105_c.jpeg)"
   ]
  },
  {
   "cell_type": "markdown",
   "metadata": {},
   "source": [
    "# What stood out to me\n",
    "\n",
    "One thing that really surprised me was how often hackers are caught because of small mistakes. They might leave behind a clue or do something suspicious—and ethical hackers like Mr. David are trained to notice it.\n",
    "\n",
    "Another big lesson was that sometimes the threat isn’t from outside hackers, but from people inside the company. One story that stuck with me was about an employee who was on leave and ended up stealing company information and talking to competitors. Thanks to good cyber security, the company caught it early and took legal action.\n",
    "\n",
    "Cyber security isn’t just about computers—it’s also about people, trust, and quick action."
   ]
  },
  {
   "cell_type": "markdown",
   "metadata": {},
   "source": [
    "# The Big Threats\n",
    "\n",
    "Here are a few things I learned that are important in today’s world of cyber attacks:\n",
    "- Zero-Day Vulnerabilities: These are problems in software that no one knows about yet—so there’s no fix. That means everyone is at risk until a patch is made.\n",
    "- Ransomware: This type of attack locks or steals important data and demands money. It can ruin businesses and destroy people’s hard work.\n",
    "- Phishing: This is when people get tricked into clicking fake links or emails, which can let hackers into systems.\n",
    "- AI & Cyber Attacks: AI is powerful—and sometimes it can be used to make attacks even stronger and harder to stop.\n",
    "- Backdoors: These are hidden ways to break into systems, and they bring up a lot of ethical questions."
   ]
  },
  {
   "cell_type": "markdown",
   "metadata": {
    "vscode": {
     "languageId": "plaintext"
    }
   },
   "source": [
    "# What I Plan to do\n",
    "\n",
    "Listening to the panel made me realize how important cyber security is, and how I can start learning more now. Here’s what I’m planning to do:\n",
    "\n",
    "1. **Try Cyber Security Tools**: I want to set up a TACP server and try CTF (Capture the Flag) challenges, which are games that teach you how to defend and attack systems.\n",
    "2. **Get a Cyber Security Certification**: The CC (Certified in Cybersecurity) certification is free and a good place to start. It’ll help me learn the basics and show that I’m serious.\n",
    "3. **Learn More About IT and Networks**: Knowing how computers and networks work is key. I’m going to spend more time learning about computer parts and how systems connect.\n",
    "4. **Improve My Soft Skills**: Being curious, friendly, and a good communicator matters just as much as knowing how to code. These skills can help with interviews and teamwork.\n",
    "5. **Start Networking**: Talking to professionals, going to events, and connecting with others in tech can help me stay updated and find new opportunities."
   ]
  }
 ],
 "metadata": {
  "language_info": {
   "name": "python"
  }
 },
 "nbformat": 4,
 "nbformat_minor": 2
}
