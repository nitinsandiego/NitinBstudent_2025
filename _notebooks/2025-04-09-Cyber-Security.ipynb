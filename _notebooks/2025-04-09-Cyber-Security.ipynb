{
 "cells": [
  {
   "cell_type": "markdown",
   "metadata": {},
   "source": [
    "---\n",
    "toc: false\n",
    "layout: post\n",
    "title: Cybersecurity Expert Panel Blog\n",
    "type: issues\n",
    "courses: {csa: {week: 30}}\n",
    "---"
   ]
  },
  {
   "cell_type": "markdown",
   "metadata": {},
   "source": [
    "# Proof of Attendence\n",
    "\n",
    "![6CAA922B-B32D-4C25-B9C6-0939AF78CCA9_1_105_c.jpeg](/NitinBstudent_2025/images/6CAA922B-B32D-4C25-B9C6-0939AF78CCA9_1_105_c.jpeg)\n",
    "\n",
    "![8F557A2A-D681-43DE-A5DA-AFDEFF7AC4B8_1_105_c.jpeg](/NitinBstudent_2025/images/8F557A2A-D681-43DE-A5DA-AFDEFF7AC4B8_1_105_c.jpeg)\n",
    "\n"
   ]
  }
 ],
 "metadata": {
  "language_info": {
   "name": "python"
  }
 },
 "nbformat": 4,
 "nbformat_minor": 2
}
