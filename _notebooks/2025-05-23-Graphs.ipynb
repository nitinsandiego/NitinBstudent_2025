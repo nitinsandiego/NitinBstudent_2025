{
 "cells": [
  {
   "cell_type": "markdown",
   "id": "0a94fd76",
   "metadata": {},
   "source": [
    "---\n",
    "toc: false\n",
    "layout: post\n",
    "title: Graphs\n",
    "type: ccc\n",
    "courses: {csa: {week: 35}}\n",
    "---"
   ]
  },
  {
   "cell_type": "markdown",
   "id": "2c1745b6",
   "metadata": {},
   "source": [
    "## Popcorn hack 1\n",
    "\n",
    "The last represenation is the most efficient because it is the most compact, since you only store the edges."
   ]
  },
  {
   "cell_type": "markdown",
   "id": "6ccf3a83",
   "metadata": {},
   "source": [
    "# Homework Part 1\n",
    "\n",
    "## How might I represented a weighted graph?\n",
    "\n",
    "### Using an Adjacency List?\n",
    "\n",
    "\n",
    "\n",
    "### Using a Vertex and Edge Set?\n",
    "\n",
    "\n",
    "\n",
    "## How might I represented a directed graph?\n",
    "\n",
    "### Using an Adjacency List?\n",
    "\n",
    "\n",
    "\n",
    "### Using a Vertex and Edge Set?\n",
    "\n"
   ]
  }
 ],
 "metadata": {
  "language_info": {
   "name": "python"
  }
 },
 "nbformat": 4,
 "nbformat_minor": 5
}
